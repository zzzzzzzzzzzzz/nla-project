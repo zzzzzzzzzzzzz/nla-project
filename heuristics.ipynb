{
 "cells": [
  {
   "cell_type": "code",
   "execution_count": 33,
   "metadata": {},
   "outputs": [],
   "source": [
    "import numpy as np\n",
    "import scipy.sparse\n",
    "import random\n",
    "from sklearn.metrics import roc_auc_score\n",
    "import matplotlib.pyplot as plt\n",
    "from tqdm import tqdm\n",
    "import math\n",
    "import statistics"
   ]
  },
  {
   "cell_type": "code",
   "execution_count": 39,
   "metadata": {
    "scrolled": false
   },
   "outputs": [],
   "source": [
    "def return_1_predictor (data, x, y):\n",
    "    if (1 == 1):\n",
    "        return 1\n",
    "    \n",
    "    else:\n",
    "        return -1\n",
    "\n",
    "def find_friends (data, rownum):\n",
    "    friends_row = data.getrow (rownum).todense ()\n",
    "    friends     = np.where    (friends_row [:, :] == 1)\n",
    "    \n",
    "    return friends\n",
    "\n",
    "def common_friends_predictor (data, x, y, th):\n",
    "    fir_fr = find_friends (data, x)\n",
    "    sec_fr = find_friends (data, y)\n",
    "    \n",
    "    common = set (fir_fr [1].flat).intersection (set (sec_fr [1].flat))\n",
    "    \n",
    "    if (len (common) >= th):\n",
    "        return 1\n",
    "\n",
    "    return 0\n",
    "\n",
    "def intersection_over_union_predictor (data, x, y, th):\n",
    "    fir_fr = find_friends (data, x)\n",
    "    sec_fr = find_friends (data, y)\n",
    "        \n",
    "    common = set (fir_fr [1].flat).intersection (set (sec_fr [1].flat))\n",
    "    uni    = set (fir_fr [1].flat).union (set (sec_fr [1].flat))\n",
    "    \n",
    "    score = len (common) / len (uni)\n",
    "    \n",
    "    if (score >= th):\n",
    "        return 1\n",
    "\n",
    "    return 0\n",
    "\n",
    "def preferential_attachment_predictor (data, x, y, th):\n",
    "    fir_fr = find_friends (data, x)\n",
    "    sec_fr = find_friends (data, y)\n",
    "    \n",
    "    score = len (fir_fr [1]) * len (sec_fr [1])\n",
    "    \n",
    "    if (score >= th):\n",
    "        return 1\n",
    "\n",
    "    return 0\n",
    "\n",
    "def adamic_adar_predictor (data, x, y, th):\n",
    "    fir_fr = find_friends (data, x)\n",
    "    sec_fr = find_friends (data, y)\n",
    "    \n",
    "    common = set (fir_fr [1].flat).intersection (set (sec_fr [1].flat))\n",
    "    \n",
    "    score = 0\n",
    "    \n",
    "    for com in common:\n",
    "        fr_list = find_friends (data, com)\n",
    "        score += math.log (len (fr_list))\n",
    "    \n",
    "    if (score >= th):\n",
    "        return 1\n",
    "\n",
    "    return 0\n",
    "    \n",
    "def assess_predictor (predictor, data, mode = \"subsequent\", runs_num = 50, param = 10):\n",
    "    success_num   = 0\n",
    "    \n",
    "    sh = data.shape\n",
    "        \n",
    "    ix, iy = data.nonzero ()\n",
    "    \n",
    "    true_labels     = []\n",
    "    obtained_labels = []\n",
    "    \n",
    "    for i in range (runs_num):\n",
    "        x = 0\n",
    "        y = 0\n",
    "        \n",
    "        if (mode == \"random\"):\n",
    "            x = ix [random.randint (0, len (ix) - 1)]\n",
    "            y = iy [random.randint (0, len (iy) - 1)]\n",
    "                \n",
    "        else:\n",
    "            print (\"Mode not implemented, idite nafig.\")\n",
    "        \n",
    "        true_label = data [x, y]\n",
    "        true_labels.append (true_label)\n",
    "        \n",
    "        data [x, y] = 0\n",
    "        label = predictor (data, x, y, param)\n",
    "        data [x, y] = true_label\n",
    "        \n",
    "        obtained_labels.append (label)\n",
    "        \n",
    "    return roc_auc_score (true_labels, obtained_labels)\n",
    "\n",
    "def plot_score_for_predictor (predictor, min_param, max_param, step, data, runs_num,\n",
    "                              mode_, param_name, pred_name):\n",
    "    scores = []\n",
    "    \n",
    "    param_val_number = int ((max_param - min_param) / step)\n",
    "    par = []\n",
    "    \n",
    "    #for i in range (param_val_number + 1):\n",
    "    for i in tqdm (range (param_val_number + 1)):\n",
    "        res = []\n",
    "        \n",
    "        parameter = min_param + step * i\n",
    "        \n",
    "        par.append (parameter)\n",
    "        \n",
    "        for j in range (runs_num):\n",
    "            res.append (assess_predictor (predictor, data,\n",
    "                        mode = mode_, runs_num = runs_num, param = parameter))\n",
    "\n",
    "        avg_score = sum (res) / runs_num\n",
    "        scores.append (avg_score)\n",
    "\n",
    "        #print (\"param \", parameter, avg_score)\n",
    "\n",
    "    plt.plot (par, scores)\n",
    "    #add legend and best score\n",
    "    plt.xlabel (param_name + \" from \" + str (min_param) + \" to \" + str (max_param))\n",
    "    plt.ylabel (\"ROC AUC score\")\n",
    "    plt.title (pred_name)\n",
    "    \n",
    "    print (\"Best score: \", round (max (scores), 3), \"+-\", round (statistics.stdev (scores), 3))\n",
    "    \n",
    "    plt.show ()"
   ]
  },
  {
   "cell_type": "code",
   "execution_count": 27,
   "metadata": {
    "scrolled": true
   },
   "outputs": [],
   "source": [
    "data_dense  = np.load (\"network.npy\")\n",
    "data_sparse = scipy.sparse.lil_matrix (data_dense)\n",
    "\n",
    "runs_number = 70"
   ]
  },
  {
   "cell_type": "code",
   "execution_count": 40,
   "metadata": {},
   "outputs": [
    {
     "name": "stderr",
     "output_type": "stream",
     "text": [
      "\n",
      "\n",
      "  0%|          | 0/21 [00:00<?, ?it/s]\u001b[A\u001b[A\n",
      "\n",
      "  5%|▍         | 1/21 [00:02<00:55,  2.79s/it]\u001b[A\u001b[A\n",
      "\n",
      " 10%|▉         | 2/21 [00:05<00:52,  2.74s/it]\u001b[A\u001b[A\n",
      "\n",
      " 14%|█▍        | 3/21 [00:08<00:49,  2.78s/it]\u001b[A\u001b[A\n",
      "\n",
      " 19%|█▉        | 4/21 [00:10<00:46,  2.73s/it]\u001b[A\u001b[A\n",
      "\n",
      " 24%|██▍       | 5/21 [00:13<00:44,  2.80s/it]\u001b[A\u001b[A\n",
      "\n",
      " 29%|██▊       | 6/21 [00:16<00:41,  2.77s/it]\u001b[A\u001b[A\n",
      "\n",
      " 33%|███▎      | 7/21 [00:19<00:39,  2.81s/it]\u001b[A\u001b[A\n",
      "\n",
      " 38%|███▊      | 8/21 [00:22<00:36,  2.80s/it]\u001b[A\u001b[A\n",
      "\n",
      " 43%|████▎     | 9/21 [00:24<00:33,  2.78s/it]\u001b[A\u001b[A\n",
      "\n",
      " 48%|████▊     | 10/21 [00:27<00:30,  2.80s/it]\u001b[A\u001b[A\n",
      "\n",
      " 52%|█████▏    | 11/21 [00:30<00:29,  2.90s/it]\u001b[A\u001b[A\n",
      "\n",
      " 57%|█████▋    | 12/21 [00:33<00:26,  2.90s/it]\u001b[A\u001b[A\n",
      "\n",
      " 62%|██████▏   | 13/21 [00:36<00:22,  2.86s/it]\u001b[A\u001b[A\n",
      "\n",
      " 67%|██████▋   | 14/21 [00:39<00:20,  2.86s/it]\u001b[A\u001b[A\n",
      "\n",
      " 71%|███████▏  | 15/21 [00:42<00:16,  2.83s/it]\u001b[A\u001b[A\n",
      "\n",
      " 76%|███████▌  | 16/21 [00:45<00:14,  2.83s/it]\u001b[A\u001b[A\n",
      "\n",
      " 81%|████████  | 17/21 [00:48<00:11,  3.00s/it]\u001b[A\u001b[A\n",
      "\n",
      " 86%|████████▌ | 18/21 [00:51<00:08,  2.98s/it]\u001b[A\u001b[A\n",
      "\n",
      " 90%|█████████ | 19/21 [00:54<00:06,  3.02s/it]\u001b[A\u001b[A\n",
      "\n",
      " 95%|█████████▌| 20/21 [00:57<00:02,  2.97s/it]\u001b[A\u001b[A\n",
      "\n",
      "100%|██████████| 21/21 [01:00<00:00,  2.98s/it]\u001b[A\u001b[A\n",
      "\n",
      "\u001b[A\u001b[A"
     ]
    },
    {
     "name": "stdout",
     "output_type": "stream",
     "text": [
      "Best score:  0.646 +- 0.044\n"
     ]
    },
    {
     "data": {
      "image/png": "[encoded data removed]",
      "text/plain": [
       "<Figure size 432x288 with 1 Axes>"
      ]
     },
     "metadata": {
      "needs_background": "light"
     },
     "output_type": "display_data"
    }
   ],
   "source": [
    "plot_score_for_predictor (predictor = common_friends_predictor, min_param = 0, max_param = 20, step = 1,\n",
    "                          data = data_sparse, runs_num = runs_number, mode_ = \"random\",\n",
    "                          param_name = \"Common friends number threshold\",\n",
    "                          pred_name  = \"Common friends number predictor\")"
   ]
  },
  {
   "cell_type": "code",
   "execution_count": 42,
   "metadata": {},
   "outputs": [
    {
     "name": "stderr",
     "output_type": "stream",
     "text": [
      "\n",
      "\n",
      "  0%|          | 0/11 [00:00<?, ?it/s]\u001b[A\u001b[A\n",
      "\n",
      "  9%|▉         | 1/11 [00:02<00:28,  2.85s/it]\u001b[A\u001b[A\n",
      "\n",
      " 18%|█▊        | 2/11 [00:05<00:25,  2.81s/it]\u001b[A\u001b[A\n",
      "\n",
      " 27%|██▋       | 3/11 [00:08<00:22,  2.78s/it]\u001b[A\u001b[A\n",
      "\n",
      " 36%|███▋      | 4/11 [00:10<00:19,  2.75s/it]\u001b[A\u001b[A\n",
      "\n",
      " 45%|████▌     | 5/11 [00:13<00:16,  2.75s/it]\u001b[A\u001b[A\n",
      "\n",
      " 55%|█████▍    | 6/11 [00:16<00:13,  2.74s/it]\u001b[A\u001b[A\n",
      "\n",
      " 64%|██████▎   | 7/11 [00:19<00:10,  2.73s/it]\u001b[A\u001b[A\n",
      "\n",
      " 73%|███████▎  | 8/11 [00:21<00:08,  2.72s/it]\u001b[A\u001b[A\n",
      "\n",
      " 82%|████████▏ | 9/11 [00:24<00:05,  2.72s/it]\u001b[A\u001b[A\n",
      "\n",
      " 91%|█████████ | 10/11 [00:27<00:02,  2.72s/it]\u001b[A\u001b[A\n",
      "\n",
      "100%|██████████| 11/11 [00:29<00:00,  2.72s/it]\u001b[A\u001b[A\n",
      "\n",
      "\u001b[A\u001b[A"
     ]
    },
    {
     "name": "stdout",
     "output_type": "stream",
     "text": [
      "Best score:  0.652 +- 0.047\n"
     ]
    },
    {
     "data": {
      "image/png": "[encoded data removed]",
      "text/plain": [
       "<Figure size 432x288 with 1 Axes>"
      ]
     },
     "metadata": {
      "needs_background": "light"
     },
     "output_type": "display_data"
    }
   ],
   "source": [
    "plot_score_for_predictor (predictor = intersection_over_union_predictor, min_param = 0, max_param = 1,\n",
    "                          step = 0.1, data = data_sparse, runs_num = runs_number, mode_ = \"random\",\n",
    "                          param_name = \"Intersection over union threshold\",\n",
    "                          pred_name  = \"Intersection over union predictor\")"
   ]
  },
  {
   "cell_type": "code",
   "execution_count": 43,
   "metadata": {},
   "outputs": [
    {
     "name": "stderr",
     "output_type": "stream",
     "text": [
      "\n",
      "\n",
      "  0%|          | 0/15 [00:00<?, ?it/s]\u001b[A\u001b[A\n",
      "\n",
      "  7%|▋         | 1/15 [00:04<01:06,  4.74s/it]\u001b[A\u001b[A\n",
      "\n",
      " 13%|█▎        | 2/15 [00:09<01:01,  4.72s/it]\u001b[A\u001b[A\n",
      "\n",
      " 20%|██        | 3/15 [00:13<00:55,  4.64s/it]\u001b[A\u001b[A\n",
      "\n",
      " 27%|██▋       | 4/15 [00:18<00:50,  4.56s/it]\u001b[A\u001b[A\n",
      "\n",
      " 33%|███▎      | 5/15 [00:22<00:44,  4.50s/it]\u001b[A\u001b[A\n",
      "\n",
      " 40%|████      | 6/15 [00:27<00:40,  4.47s/it]\u001b[A\u001b[A\n",
      "\n",
      " 47%|████▋     | 7/15 [00:31<00:35,  4.45s/it]\u001b[A\u001b[A\n",
      "\n",
      " 53%|█████▎    | 8/15 [00:36<00:31,  4.54s/it]\u001b[A\u001b[A\n",
      "\n",
      " 60%|██████    | 9/15 [00:40<00:26,  4.49s/it]\u001b[A\u001b[A\n",
      "\n",
      " 67%|██████▋   | 10/15 [00:44<00:22,  4.46s/it]\u001b[A\u001b[A\n",
      "\n",
      " 73%|███████▎  | 11/15 [00:49<00:17,  4.48s/it]\u001b[A\u001b[A\n",
      "\n",
      " 80%|████████  | 12/15 [00:53<00:13,  4.46s/it]\u001b[A\u001b[A\n",
      "\n",
      " 87%|████████▋ | 13/15 [00:58<00:08,  4.45s/it]\u001b[A\u001b[A\n",
      "\n",
      " 93%|█████████▎| 14/15 [01:02<00:04,  4.48s/it]\u001b[A\u001b[A\n",
      "\n",
      "100%|██████████| 15/15 [01:07<00:00,  4.45s/it]\u001b[A\u001b[A\n",
      "\n",
      "\u001b[A\u001b[A"
     ]
    },
    {
     "name": "stdout",
     "output_type": "stream",
     "text": [
      "Best score:  0.641 +- 0.052\n"
     ]
    },
    {
     "data": {
      "image/png": "[encoded data removed]",
      "text/plain": [
       "<Figure size 432x288 with 1 Axes>"
      ]
     },
     "metadata": {
      "needs_background": "light"
     },
     "output_type": "display_data"
    }
   ],
   "source": [
    "plot_score_for_predictor (predictor = adamic_adar_predictor, min_param = 0.1, max_param = 6,\n",
    "                          step = 0.4, data = data_sparse, runs_num = runs_number, mode_ = \"random\",\n",
    "                          param_name = \"Adamic adar score threshold\",\n",
    "                          pred_name  = \"Adamic adar predictor\")"
   ]
  },
  {
   "cell_type": "code",
   "execution_count": null,
   "metadata": {},
   "outputs": [],
   "source": []
  },
  {
   "cell_type": "code",
   "execution_count": null,
   "metadata": {},
   "outputs": [],
   "source": []
  },
  {
   "cell_type": "code",
   "execution_count": null,
   "metadata": {},
   "outputs": [],
   "source": []
  },
  {
   "cell_type": "code",
   "execution_count": null,
   "metadata": {},
   "outputs": [],
   "source": [
    "#plot_score_for_predictor (predictor = preferential_attachment_predictor, min_param = 0, max_param = 200,\n",
    "#                          step = 30, data = data_sparse, runs_num = 40, mode_ = \"random\")"
   ]
  },
  {
   "cell_type": "code",
   "execution_count": null,
   "metadata": {},
   "outputs": [],
   "source": [
    "def read_data (name):\n",
    "    inp = open (name, 'r')\n",
    "\n",
    "    #skip first line\n",
    "    inp.readline ()\n",
    "\n",
    "    raw_data = []\n",
    "\n",
    "    for line in inp:\n",
    "        splitted = line.split ()\n",
    "        \n",
    "        if (len (splitted) != 3):\n",
    "            continue\n",
    "\n",
    "        id1    = int (splitted [0])\n",
    "        id2    = int (splitted [1])\n",
    "        status = int (splitted [2])\n",
    "        \n",
    "        if (status == -1):\n",
    "            continue\n",
    "\n",
    "        raw_data.append ((id1, id2, status))\n",
    "\n",
    "    data = np.array (raw_data)\n",
    "    \n",
    "    return data\n",
    "\n",
    "def form_matrix (data):\n",
    "    id1 = data [:, 0]\n",
    "    sz1 = max (id1) + 1\n",
    "    un_id1 = np.unique (id1)\n",
    "    \n",
    "    id2 = data [:, 1]\n",
    "    sz2 = max (id2) + 1\n",
    "    un_id2 = np.unique (id2)\n",
    "    \n",
    "    id_intersection = (set (un_id1)).intersection (set (un_id2))\n",
    "    \n",
    "    adj_matr = scipy.sparse.lil_matrix ((sz1, sz2), dtype = np.int32)\n",
    "\n",
    "    for affinity in data:\n",
    "        ind1 = affinity [0]\n",
    "        ind2 = affinity [1]\n",
    "        \n",
    "        if ((ind1 not in id_intersection) or (ind2 not in id_intersection)):\n",
    "            continue\n",
    "\n",
    "        adj_matr [ind1, ind2] = affinity [2]\n",
    "    \n",
    "    return adj_matr, id_intersection\n",
    "\n",
    "inp = read_data (\"slashdot.txt\")\n",
    "\n",
    "data, id_int = form_matrix (inp)\n",
    "\n",
    "test_number = 100\n",
    "runs_number = 20\n",
    "max_th      = 30\n",
    "\n",
    "plot_score_for_predictor (common_friends_predictor, 0, 20, 1, data, runs_number, \"random\", id_int)"
   ]
  }
 ],
 "metadata": {
  "kernelspec": {
   "display_name": "Python 3",
   "language": "python",
   "name": "python3"
  },
  "language_info": {
   "codemirror_mode": {
    "name": "ipython",
    "version": 3
   },
   "file_extension": ".py",
   "mimetype": "text/x-python",
   "name": "python",
   "nbconvert_exporter": "python",
   "pygments_lexer": "ipython3",
   "version": "3.5.2"
  }
 },
 "nbformat": 4,
 "nbformat_minor": 2
}
